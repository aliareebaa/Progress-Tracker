{
 "cells": [
  {
   "cell_type": "code",
   "execution_count": 3,
   "id": "c426ee2b",
   "metadata": {
    "scrolled": false
   },
   "outputs": [
    {
     "name": "stdout",
     "output_type": "stream",
     "text": [
      "Enter task name: math\n",
      "Enter hours spent: 2\n",
      "Enter hours required: 8\n",
      "Enter date: 12/2/23\n",
      "Do you want a graph for the daily or monthly data? daily\n"
     ]
    },
    {
     "data": {
      "image/png": "[encoded data removed]",
      "text/plain": [
       "<Figure size 640x480 with 1 Axes>"
      ]
     },
     "metadata": {},
     "output_type": "display_data"
    }
   ],
   "source": [
    "import pandas as pd\n",
    "import openpyxl\n",
    "from openpyxl import Workbook\n",
    "import matplotlib.pyplot as plt\n",
    "\n",
    "# take user inputs\n",
    "\n",
    "task_name = input(\"Enter task name: \")\n",
    "hours_spent = float(input(\"Enter hours spent: \"))\n",
    "hours_required = float(input(\"Enter hours required: \"))\n",
    "date = input(\"Enter date: \")\n",
    "\n",
    "# create Excel workbook if it does not exist\n",
    "try:\n",
    "    wb = openpyxl.load_workbook('file.xlsx')\n",
    "except FileNotFoundError:\n",
    "    wb = Workbook()\n",
    "    ws = wb.active\n",
    "    ws.title = task_name\n",
    "    ws.append(['Date', 'Hours Spent', 'Hours Required'])\n",
    "\n",
    "# check if worksheet for task exists, create it if it does not \n",
    "if task_name not in wb.sheetnames:\n",
    "    ws = wb.create_sheet(title=task_name)\n",
    "    ws.append(['Date', 'Hours Spent', 'Hours Required'])\n",
    "else:\n",
    "    ws = wb[task_name]\n",
    "\n",
    "# append data to worksheet\n",
    "ws.append([date, hours_spent, hours_required])\n",
    "\n",
    "# save workbook\n",
    "wb.save('file.xlsx')\n",
    "\n",
    "\n",
    "\n",
    "while True:\n",
    "    ques = input(\"Do you want a graph for the daily or monthly data? \")\n",
    "    if ques.lower() == 'daily':\n",
    "        \n",
    "\n",
    "        # Create a bar chart\n",
    "        plt.bar(task_name, hours_required, label='Time required')\n",
    "        plt.bar(task_name, hours_spent, label='Time spent')\n",
    "\n",
    "        # Set the title and labels\n",
    "        plt.title('Daily progress tracker')\n",
    "        \n",
    "        plt.ylabel('Time (hours)')\n",
    "\n",
    "        # Show the legend\n",
    "        plt.legend()\n",
    "\n",
    "        # Display the chart\n",
    "        plt.show()\n",
    "\n",
    "        \n",
    "        break\n",
    "        \n",
    "        \n",
    "    elif ques.lower() == 'monthly':\n",
    "        \n",
    "        wb = openpyxl.load_workbook('file.xlsx')\n",
    "        ws_name = task_name\n",
    "        ws = wb[ws_name]\n",
    "\n",
    "        # Extract the task names, time spent, and time required for each task\n",
    "        task_names = []\n",
    "        time_spent = []\n",
    "        time_required = []\n",
    "        for row in ws.iter_rows(min_row=2, values_only=True):\n",
    "            task_names.append(row[0])\n",
    "            time_spent.append(row[1])\n",
    "            time_required.append(row[2])\n",
    "        \n",
    "        fig, ax = plt.subplots()\n",
    "\n",
    "        # Set the width of the bars\n",
    "        bar_width = 0.35\n",
    "\n",
    "        # Create the bars for time spent and time required\n",
    "        bar1 = ax.bar(range(len(task_names)), time_spent, bar_width, label='Time Spent')\n",
    "        bar2 = ax.bar([i + bar_width for i in range(len(task_names))], time_required, bar_width, label='Time Required')\n",
    "\n",
    "        # Set the axis labels and title\n",
    "        ax.set_xlabel('Task Name')\n",
    "        ax.set_ylabel('Time (hours)')\n",
    "        ax.set_title('Time Spent vs. Time Required by Task - {}'.format(ws_name))\n",
    "\n",
    "        # Set the x ticks and tick labels\n",
    "        ax.set_xticks([i + bar_width / 2 for i in range(len(task_names))])\n",
    "        ax.set_xticklabels(task_names)\n",
    "\n",
    "        # Add a legend\n",
    "        ax.legend()\n",
    "\n",
    "        # Show the plot\n",
    "        plt.show()\n",
    "        \n",
    "        break\n",
    "        \n",
    "        \n"
   ]
  },
  {
   "cell_type": "code",
   "execution_count": null,
   "id": "f9765b16",
   "metadata": {},
   "outputs": [],
   "source": []
  },
  {
   "cell_type": "code",
   "execution_count": null,
   "id": "1d4be90f",
   "metadata": {},
   "outputs": [],
   "source": []
  }
 ],
 "metadata": {
  "kernelspec": {
   "display_name": "Python 3 (ipykernel)",
   "language": "python",
   "name": "python3"
  },
  "language_info": {
   "codemirror_mode": {
    "name": "ipython",
    "version": 3
   },
   "file_extension": ".py",
   "mimetype": "text/x-python",
   "name": "python",
   "nbconvert_exporter": "python",
   "pygments_lexer": "ipython3",
   "version": "3.10.5"
  }
 },
 "nbformat": 4,
 "nbformat_minor": 5
}
